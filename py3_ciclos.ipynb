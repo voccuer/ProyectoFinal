{
  "nbformat": 4,
  "nbformat_minor": 0,
  "metadata": {
    "colab": {
      "name": "py3 ciclos.ipynb",
      "provenance": [],
      "toc_visible": true,
      "authorship_tag": "ABX9TyPnToZJO+AdFiywsTR5OK0A",
      "include_colab_link": true
    },
    "kernelspec": {
      "name": "python3",
      "display_name": "Python 3"
    },
    "language_info": {
      "name": "python"
    }
  },
  "cells": [
    {
      "cell_type": "markdown",
      "metadata": {
        "id": "view-in-github",
        "colab_type": "text"
      },
      "source": [
        "<a href=\"https://colab.research.google.com/github/voccuer/ProyectoFinal/blob/main/py3_ciclos.ipynb\" target=\"_parent\"><img src=\"https://colab.research.google.com/assets/colab-badge.svg\" alt=\"Open In Colab\"/></a>"
      ]
    },
    {
      "cell_type": "code",
      "metadata": {
        "colab": {
          "base_uri": "https://localhost:8080/"
        },
        "id": "71V5QMYJM88w",
        "outputId": "08e8a968-9e8d-4139-b005-b4a3f0ab9c2f"
      },
      "source": [
        "def sumatoria1(a,b,c):\n",
        "  n=len(a)\n",
        "  acumulador = 0\n",
        "  for i in range(n):\n",
        "    d= a[i]*b[i]\n",
        "    e= d+c[i]+n**2\n",
        "    acumulador= acumulador+e\n",
        "  return acumulador\n",
        "a=[2,3,7]\n",
        "b=[7,8,4]\n",
        "c=[5,2,3]\n",
        "sumatoria1(a,b,c) \n"
      ],
      "execution_count": 9,
      "outputs": [
        {
          "output_type": "execute_result",
          "data": {
            "text/plain": [
              "103"
            ]
          },
          "metadata": {},
          "execution_count": 9
        }
      ]
    },
    {
      "cell_type": "code",
      "metadata": {
        "colab": {
          "base_uri": "https://localhost:8080/"
        },
        "id": "Y2IQpi7TYJ12",
        "outputId": "7f9909a3-2850-437d-e833-8a26fdb83a06"
      },
      "source": [
        "def sumatoria1(a,b):\n",
        "  n=len(a)//2\n",
        "  c=[]\n",
        "  for i in range(n):\n",
        "    d= a[i+1]**2*b[2*i]\n",
        "    e=d+b[n+i]\n",
        "    c.append(e)\n",
        "  return c\n",
        "a=[2,4,7,4]\n",
        "b=[7,2,4,4]\n",
        "sumatoria1(a,b)"
      ],
      "execution_count": 33,
      "outputs": [
        {
          "output_type": "execute_result",
          "data": {
            "text/plain": [
              "[116, 200]"
            ]
          },
          "metadata": {},
          "execution_count": 33
        }
      ]
    }
  ]
}