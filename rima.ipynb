{
  "nbformat": 4,
  "nbformat_minor": 0,
  "metadata": {
    "colab": {
      "name": "rima.ipynb",
      "provenance": [],
      "authorship_tag": "ABX9TyMD37/8T9cqH7qN7Ox8ogOJ",
      "include_colab_link": true
    },
    "kernelspec": {
      "name": "python3",
      "display_name": "Python 3"
    },
    "language_info": {
      "name": "python"
    }
  },
  "cells": [
    {
      "cell_type": "markdown",
      "metadata": {
        "id": "view-in-github",
        "colab_type": "text"
      },
      "source": [
        "<a href=\"https://colab.research.google.com/github/voccuer/ProyectoFinal/blob/main/rima.ipynb\" target=\"_parent\"><img src=\"https://colab.research.google.com/assets/colab-badge.svg\" alt=\"Open In Colab\"/></a>"
      ]
    },
    {
      "cell_type": "code",
      "metadata": {
        "colab": {
          "base_uri": "https://localhost:8080/",
          "height": 74
        },
        "id": "0aRtyxz5_5Ro",
        "outputId": "ad15d528-cca2-4303-dd09-6b2f0697b68b"
      },
      "source": [
        "archivo  = open('palabras500.csv', encoding=\"utf-8\")\n",
        "lineas = archivo.readlines()\n",
        "archivo.close()\n",
        "def rima(final):\n",
        "    palabras= [s for s in lineas if (final) in s]\n",
        "    print (palabras)\n",
        "    return final\n",
        "rima(\"os\")\n",
        "# por mas que intenté, no encontre la forma de hacer que solo se escogieran los caracteres finales para una palabra cualquiera de una lista\n",
        "# en el código de abajo hice una función para determinar si los n caracteres s que se pongan al final de un texto son los mismos, aunque no pude incorporarla a este código"
      ],
      "execution_count": 244,
      "outputs": [
        {
          "output_type": "stream",
          "name": "stdout",
          "text": [
            "['los\\n', 'a?os\\n', 'todos\\n', 'nos\\n', 'dos\\n', 'otros\\n', 'estos\\n', 'menos\\n', 'ellos\\n', 'algunos\\n', 'muchos\\n', 'servicios\\n', 'cosas\\n', 'unos\\n', 'nosotros\\n', 'estamos\\n', 'tenemos\\n', 'recursos\\n', 'estados\\n', 'ni?os\\n', 'derechos\\n', 'datos\\n', 'nuestros\\n', 'posible\\n', 'productos\\n', 'casos\\n', 'puntos\\n', 'buenos\\n', 'hemos\\n', 'varios\\n', 'medios\\n', 'resultados\\n', 'unidos\\n', 'proyectos\\n', 'esos\\n', 'nuevos\\n', 'pesos\\n', 'estudios\\n', 'dios\\n', 'vamos\\n', 'minutos\\n', 'podemos\\n', 'últimos\\n', 'alumnos\\n', 'posibilidad\\n', 'grupos\\n', 'humanos\\n', 'cosa\\n']\n"
          ]
        },
        {
          "output_type": "execute_result",
          "data": {
            "application/vnd.google.colaboratory.intrinsic+json": {
              "type": "string"
            },
            "text/plain": [
              "'os'"
            ]
          },
          "metadata": {},
          "execution_count": 244
        }
      ]
    },
    {
      "cell_type": "code",
      "metadata": {
        "colab": {
          "base_uri": "https://localhost:8080/",
          "height": 135
        },
        "id": "wOxyfzR2n0Mh",
        "outputId": "a1b53298-778a-462d-d4cd-9eada58f1240"
      },
      "source": [
        "def rima(final,tex):\n",
        "  x= len(tex)\n",
        "  finalcount=len(final)\n",
        "  y=tex.rfind(final)\n",
        "  if x-y==finalcount:\n",
        "   print(tex)\n",
        "  else:\n",
        "    print(\"los caracteres no corresponden con el final del texto\")\n",
        "   return final,tex\n",
        "rima(\"eba\",\"cadena de prueba\")\n"
      ],
      "execution_count": 243,
      "outputs": [
        {
          "output_type": "error",
          "ename": "SyntaxError",
          "evalue": "ignored",
          "traceback": [
            "\u001b[0;36m  File \u001b[0;32m\"<ipython-input-243-08ab9b692c46>\"\u001b[0;36m, line \u001b[0;32m7\u001b[0m\n\u001b[0;31m    else\u001b[0m\n\u001b[0m          ^\u001b[0m\n\u001b[0;31mSyntaxError\u001b[0m\u001b[0;31m:\u001b[0m invalid syntax\n"
          ]
        }
      ]
    }
  ]
}
\\para guardarlo en discord
